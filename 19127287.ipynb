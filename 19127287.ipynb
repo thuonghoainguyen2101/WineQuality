{
  "nbformat": 4,
  "nbformat_minor": 0,
  "metadata": {
    "colab": {
      "name": "winepredict.ipynb",
      "provenance": [],
      "collapsed_sections": []
    },
    "kernelspec": {
      "name": "python3",
      "display_name": "Python 3"
    },
    "language_info": {
      "name": "python"
    }
  },
  "cells": [
    {
      "cell_type": "code",
      "metadata": {
        "id": "nNeQ_82Ltq2i"
      },
      "source": [
        "import pandas as pd\n",
        "import matplotlib.pyplot as plt \n",
        "import numpy as np \n",
        "import seaborn as sns\n",
        "from sklearn.model_selection import train_test_split \n",
        "\n",
        "from sklearn.linear_model import LinearRegression \n",
        "from sklearn.metrics import r2_score\n",
        "from sklearn.metrics import mean_squared_error\n",
        "from sklearn import metrics \n",
        "\n",
        "from sklearn.model_selection import cross_val_score\n",
        "from sklearn.model_selection import StratifiedKFold\n",
        "from sklearn import svm\n",
        "\n",
        "from statistics import mean\n",
        "\n",
        "import itertools\n",
        "# Xây dựng mô hình đánh giá chất lượng rượu sử dụng phương pháp hồi quy tuyến tính (7 điểm)"
      ],
      "execution_count": 16,
      "outputs": []
    },
    {
      "cell_type": "code",
      "metadata": {
        "id": "KOgpD4KeoJt-"
      },
      "source": [
        "def A_model(x, y):\n",
        "    # Split datasets into train and test:\n",
        "    x_train, x_test, y_train, y_test = train_test_split(x, y, train_size = 0.7, random_state = 21)\n",
        "\n",
        "    # Creating the linear regression model and fitting the data to it\n",
        "    A_regressor = LinearRegression()\n",
        "    A_regressor.fit(x_train, y_train)\n",
        "    y_pred = A_regressor.predict(x_test)\n",
        "    A_weight = A_regressor.coef_\n",
        "    # độ lỗi huấn luyện\n",
        "    A_square_error = mean_squared_error(y_test, y_pred)\n",
        "\n",
        "\n",
        "    return A_weight, A_square_error"
      ],
      "execution_count": 17,
      "outputs": []
    },
    {
      "cell_type": "code",
      "metadata": {
        "id": "jlrYLV0hLtZP"
      },
      "source": [
        "def B_model(x, y):\n",
        "    cross_validation = StratifiedKFold(n_splits = 5, shuffle = True, random_state = 21)\n",
        "    regressor = LinearRegression()\n",
        "\n",
        "    square_error = []\n",
        "    min_square_error = float(\"inf\")\n",
        "    min_index = -1\n",
        "    min_weight = 0\n",
        "    for i in range(x.shape[1]): # mỗi thuộc tính của x\n",
        "        x_data = x[:, i]\n",
        "        for train_index, test_index in cross_validation.split(x, y): # 5 phần data sau khi chia = 4 train + 1 test\n",
        "            x_train = []\n",
        "            y_train = []\n",
        "            for j in train_index:\n",
        "                x_train.append([x_data[j]])\n",
        "                y_train.append([y[j]])       \n",
        "            x_train = np.array(x_train)\n",
        "            y_train = np.array(y_train)\n",
        "\n",
        "            x_test = []\n",
        "            y_test = []\n",
        "            for j in test_index:\n",
        "                x_test.append([x_data[j]])\n",
        "                y_test.append([y[j]])\n",
        "            x_test = np.array(x_test)\n",
        "\n",
        "            regressor.fit(x_train, y_train)\n",
        "\n",
        "            y_pred = regressor.predict(x_test)\n",
        "            # độ lỗi huấn luyện\n",
        "            square_error.append(mean_squared_error(y_test, y_pred))\n",
        "\n",
        "        if min_square_error > mean(square_error):\n",
        "            min_square_error = mean(square_error)\n",
        "            min_index = i\n",
        "            min_weight = regressor.coef_\n",
        "        square_error = []\n",
        "\n",
        "    return min_square_error, min_index, min_weight"
      ],
      "execution_count": 18,
      "outputs": []
    },
    {
      "cell_type": "code",
      "metadata": {
        "id": "DDtmK2XXECWH"
      },
      "source": [
        "def C_model(x, y):\n",
        "    cross_validation = StratifiedKFold(n_splits = 5, shuffle = True, random_state = 21)\n",
        "    regressor = LinearRegression()\n",
        "\n",
        "    square_error = list()\n",
        "    min_square_error = [float(\"inf\")]\n",
        "    min_index = []\n",
        "    min_weight = 0\n",
        "    for i in range(2, x.shape[1] - 1):\n",
        "        for combination in itertools.combinations(range(2, x.shape[1] - 1), i): # tổ hợp từ 2 đến n - 1 thuộc tính của x\n",
        "            x_data = []\n",
        "            for c in combination:\n",
        "                x_data.append(x[:, c])\n",
        "            x_data = np.vstack(x_data).T\n",
        "            \n",
        "            for train_index, test_index in cross_validation.split(x, y): # 5 phần data sau khi chia = 4 train + 1 test\n",
        "                x_train = []\n",
        "                y_train = []\n",
        "                for j in train_index:\n",
        "                    x_train.append(x_data[j])\n",
        "                    y_train.append([y[j]])       \n",
        "                x_train = np.array(x_train)\n",
        "                y_train = np.array(y_train)\n",
        "\n",
        "                x_test = []\n",
        "                y_test = []\n",
        "                for j in test_index:\n",
        "                    x_test.append(x_data[j])\n",
        "                    y_test.append([y[j]])\n",
        "                x_test = np.array(x_test)\n",
        "                regressor.fit(x_train, y_train)\n",
        "\n",
        "                y_pred = regressor.predict(x_test)\n",
        "                # độ lỗi huấn luyện\n",
        "                square_error.append(mean_squared_error(y_test, y_pred))\n",
        "            if mean(min_square_error) > mean(square_error):\n",
        "                min_square_error = square_error\n",
        "                min_index = combination\n",
        "                min_weight = regressor.coef_\n",
        "            square_error = list()\n",
        "    return mean(min_square_error), min_index, min_weight[0]\n",
        "   "
      ],
      "execution_count": 19,
      "outputs": []
    },
    {
      "cell_type": "code",
      "metadata": {
        "colab": {
          "base_uri": "https://localhost:8080/"
        },
        "id": "LP-pAW999zoo",
        "outputId": "63a53ac2-ce03-4596-948c-2a4b59fc806e"
      },
      "source": [
        "if __name__ == '__main__':\n",
        "    df = pd.read_csv('wine.csv', sep=';') \n",
        "    x = df.iloc[:, :-1].to_numpy() # 11 cột đầu làm X\n",
        "    y = df.iloc[:, -1].to_numpy()  # cột cuối cùng làm y\n",
        "    A_weight, A_square_error = A_model(x, y)\n",
        "  \n",
        "    # displaying coefficients of each feature\n",
        "    coeffecients = pd.DataFrame(A_weight, df.columns[:-1]) \n",
        "    coeffecients.columns = ['Coeffecient']\n",
        "    print(\"Mô hình sử dụng toàn bộ 11 đặc trưng đề bài cung cấp \")\n",
        "    print(coeffecients)\n",
        "    print(\"Độ lỗi huấn luyện: \", A_square_error)\n",
        "\n",
        "    B_square_error, B_index, B_weight = B_model(x, y)\n",
        "    coeffecients = pd.DataFrame(B_weight, df.columns[B_index:B_index + 1]) \n",
        "    coeffecients.columns = ['Coeffecient']\n",
        "    print(\"\\nb) Mô hình sử dụng duy nhất 1 đặc trưng cho kết quả tốt nhất\")\n",
        "    print(coeffecients)\n",
        "    print(\"Độ lỗi huấn luyện: \", B_square_error)\n",
        "\n",
        "    C_square_error, C_index, C_weight = C_model(x, y)\n",
        "    label = [df.columns[i] for i in C_index]\n",
        "    # label = np.reshape(label, (len(C_index), 1))\n",
        "\n",
        "    coeffecients = pd.DataFrame([C_weight], columns = label) \n",
        "    coeffecients = coeffecients.T\n",
        "    coeffecients.columns = ['Coeffecient']\n",
        "    print(\"\\nc) Mô hình của riêng bạn cho kết quả tốt nhất\")\n",
        "    print(coeffecients)\n",
        "    print(\"Độ lỗi huấn luyện: \", C_square_error)\n",
        "\n"
      ],
      "execution_count": 20,
      "outputs": [
        {
          "output_type": "stream",
          "text": [
            "Mô hình sử dụng toàn bộ 11 đặc trưng đề bài cung cấp \n",
            "                      Coeffecient\n",
            "fixed acidity            0.044999\n",
            "volatile acidity        -1.006174\n",
            "citric acid             -0.200043\n",
            "residual sugar           0.032139\n",
            "chlorides               -1.726505\n",
            "free sulfur dioxide     -0.001263\n",
            "total sulfur dioxide    -0.003014\n",
            "density                -40.051305\n",
            "pH                      -0.182331\n",
            "sulphates                0.793019\n",
            "alcohol                  0.271916\n",
            "Độ lỗi huấn luyện:  0.3969940582870727\n",
            "\n",
            "b) Mô hình sử dụng duy nhất 1 đặc trưng cho kết quả tốt nhất\n",
            "         Coeffecient\n",
            "alcohol     0.376382\n",
            "Độ lỗi huấn luyện:  0.48751785723897884\n",
            "\n",
            "c) Mô hình của riêng bạn cho kết quả tốt nhất\n",
            "                      Coeffecient\n",
            "citric acid              1.160395\n",
            "residual sugar           0.131154\n",
            "chlorides               -3.623403\n",
            "free sulfur dioxide      0.010147\n",
            "total sulfur dioxide    -0.008100\n",
            "density               -144.381100\n",
            "sulphates                1.107484\n",
            "Độ lỗi huấn luyện:  0.47778833952828925\n"
          ],
          "name": "stdout"
        }
      ]
    }
  ]
}